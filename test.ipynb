{
 "metadata": {
  "language_info": {
   "codemirror_mode": {
    "name": "ipython",
    "version": 3
   },
   "file_extension": ".py",
   "mimetype": "text/x-python",
   "name": "python",
   "nbconvert_exporter": "python",
   "pygments_lexer": "ipython3",
   "version": "3.8.6-final"
  },
  "orig_nbformat": 2,
  "kernelspec": {
   "name": "python3",
   "display_name": "Python 3.8.6 64-bit ('env')",
   "metadata": {
    "interpreter": {
     "hash": "df95479fe5df3d713f634f7666b4289e634bbc67196d4ad1a6a1259ce63848c6"
    }
   }
  }
 },
 "nbformat": 4,
 "nbformat_minor": 2,
 "cells": [
  {
   "cell_type": "code",
   "execution_count": 2,
   "metadata": {},
   "outputs": [],
   "source": [
    "import pyautogui\n",
    "import time\n",
    "import pygetwindow\n",
    "import pynput\n",
    "import tkinter as tk"
   ]
  },
  {
   "cell_type": "code",
   "execution_count": 13,
   "metadata": {},
   "outputs": [],
   "source": [
    "top = tk.Tk()\n",
    "\n",
    "title = tk.Label()\n",
    "log = tk.Text(state='disabled')\n",
    "\n",
    "title.pack()\n",
    "log.pack()\n",
    "\n",
    "log.configure(state='normal')\n",
    "log.insert('end', 'This is a log!')\n",
    "log.configure(state='disabled')\n",
    "\n",
    "top.mainloop()"
   ]
  }
 ]
}