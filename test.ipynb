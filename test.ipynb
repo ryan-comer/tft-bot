{
 "metadata": {
  "language_info": {
   "codemirror_mode": {
    "name": "ipython",
    "version": 3
   },
   "file_extension": ".py",
   "mimetype": "text/x-python",
   "name": "python",
   "nbconvert_exporter": "python",
   "pygments_lexer": "ipython3",
   "version": "3.8.6-final"
  },
  "orig_nbformat": 2,
  "kernelspec": {
   "name": "python3",
   "display_name": "Python 3.8.6 64-bit ('env')",
   "metadata": {
    "interpreter": {
     "hash": "df95479fe5df3d713f634f7666b4289e634bbc67196d4ad1a6a1259ce63848c6"
    }
   }
  }
 },
 "nbformat": 4,
 "nbformat_minor": 2,
 "cells": [
  {
   "cell_type": "code",
   "execution_count": 2,
   "metadata": {},
   "outputs": [],
   "source": [
    "import pyautogui\n",
    "import time\n",
    "import pygetwindow\n",
    "import pynput"
   ]
  },
  {
   "cell_type": "code",
   "execution_count": 4,
   "metadata": {},
   "outputs": [
    {
     "output_type": "stream",
     "name": "stdout",
     "text": [
      "Pressing: 0\n",
      "Pressing: 1\n",
      "Pressing: 2\n",
      "Pressing: 3\n",
      "Pressing: 4\n"
     ]
    }
   ],
   "source": [
    "keyboard = pynput.keyboard.Controller()\n",
    "for i in range(5):\n",
    "    time.sleep(1)\n",
    "    print(\"Pressing: %d\" % i)\n",
    "    pyautogui.press('esc')\n",
    "    time.sleep(1)\n",
    "    pyautogui.press('escape')"
   ]
  },
  {
   "cell_type": "code",
   "execution_count": 16,
   "metadata": {},
   "outputs": [],
   "source": [
    "league_window_title = 'League of Legends (TM) Client'"
   ]
  },
  {
   "cell_type": "code",
   "execution_count": 18,
   "metadata": {},
   "outputs": [],
   "source": [
    "league_window = pygetwindow.getWindowsWithTitle(league_window_title)[0]"
   ]
  },
  {
   "cell_type": "code",
   "execution_count": 19,
   "metadata": {},
   "outputs": [
    {
     "output_type": "execute_result",
     "data": {
      "text/plain": [
       "Win32Window(hWnd=2361260)"
      ]
     },
     "metadata": {},
     "execution_count": 19
    }
   ],
   "source": []
  }
 ]
}